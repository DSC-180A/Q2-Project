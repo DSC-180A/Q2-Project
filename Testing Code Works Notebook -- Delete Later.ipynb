{
 "cells": [
  {
   "cell_type": "code",
   "execution_count": 1,
   "metadata": {},
   "outputs": [],
   "source": [
    "import sys\n",
    "import os\n",
    "import json\n",
    "\n",
    "#Import functions from src\n",
    "from src.etl import get_train_data, get_twitter_data\n",
    "from src.features import data_wrangling, transform_train_data\n",
    "from src.model import naive_bayes_model, sentiment_analyzer"
   ]
  },
  {
   "cell_type": "code",
   "execution_count": 2,
   "metadata": {},
   "outputs": [],
   "source": [
    "import pandas as pd\n",
    "import json"
   ]
  },
  {
   "cell_type": "code",
   "execution_count": 3,
   "metadata": {},
   "outputs": [],
   "source": [
    "train_data = pd.read_csv(\"data/raw/train.csv\")"
   ]
  },
  {
   "cell_type": "code",
   "execution_count": 4,
   "metadata": {},
   "outputs": [],
   "source": [
    "with open(\"config/features-params.json\") as fh:\n",
    "    feats_cfg = json.load(fh)\n",
    "    viz_df = data_wrangling(train_data, feats_cfg[\"label_col_name\"], feats_cfg[\"columns_standardize\"], feats_cfg[\"tweet_col_name\"])\n",
    "    NB_df = transform_train_data(train_data, feats_cfg[\"tweet_col_name\"], feats_cfg[\"label_col_name\"])\n"
   ]
  },
  {
   "cell_type": "code",
   "execution_count": 5,
   "metadata": {},
   "outputs": [
    {
     "data": {
      "text/html": [
       "<div>\n",
       "<style scoped>\n",
       "    .dataframe tbody tr th:only-of-type {\n",
       "        vertical-align: middle;\n",
       "    }\n",
       "\n",
       "    .dataframe tbody tr th {\n",
       "        vertical-align: top;\n",
       "    }\n",
       "\n",
       "    .dataframe thead th {\n",
       "        text-align: right;\n",
       "    }\n",
       "</style>\n",
       "<table border=\"1\" class=\"dataframe\">\n",
       "  <thead>\n",
       "    <tr style=\"text-align: right;\">\n",
       "      <th></th>\n",
       "      <th>Tweet</th>\n",
       "      <th>label</th>\n",
       "      <th>Type</th>\n",
       "      <th>is_retweet</th>\n",
       "      <th>length</th>\n",
       "      <th>contains_at</th>\n",
       "      <th>contains_hashtag</th>\n",
       "      <th>contains_link</th>\n",
       "      <th>contains_pic</th>\n",
       "      <th>standardize_following</th>\n",
       "      <th>standardize_followers</th>\n",
       "      <th>standardize_actions</th>\n",
       "    </tr>\n",
       "  </thead>\n",
       "  <tbody>\n",
       "    <tr>\n",
       "      <th>0</th>\n",
       "      <td>It's the everything else that's complicated. #...</td>\n",
       "      <td>False</td>\n",
       "      <td>Quality</td>\n",
       "      <td>0.0</td>\n",
       "      <td>8</td>\n",
       "      <td>False</td>\n",
       "      <td>True</td>\n",
       "      <td>False</td>\n",
       "      <td>True</td>\n",
       "      <td>-0.151579</td>\n",
       "      <td>-0.089445</td>\n",
       "      <td>NaN</td>\n",
       "    </tr>\n",
       "    <tr>\n",
       "      <th>1</th>\n",
       "      <td>Eren sent a glare towards Mikasa then nodded a...</td>\n",
       "      <td>False</td>\n",
       "      <td>Quality</td>\n",
       "      <td>0.0</td>\n",
       "      <td>24</td>\n",
       "      <td>True</td>\n",
       "      <td>False</td>\n",
       "      <td>False</td>\n",
       "      <td>False</td>\n",
       "      <td>-0.151579</td>\n",
       "      <td>-0.092339</td>\n",
       "      <td>NaN</td>\n",
       "    </tr>\n",
       "    <tr>\n",
       "      <th>2</th>\n",
       "      <td>I posted a new photo to Facebook http://fb.me/...</td>\n",
       "      <td>False</td>\n",
       "      <td>Quality</td>\n",
       "      <td>0.0</td>\n",
       "      <td>8</td>\n",
       "      <td>False</td>\n",
       "      <td>False</td>\n",
       "      <td>True</td>\n",
       "      <td>False</td>\n",
       "      <td>-0.151579</td>\n",
       "      <td>-0.092339</td>\n",
       "      <td>NaN</td>\n",
       "    </tr>\n",
       "    <tr>\n",
       "      <th>3</th>\n",
       "      <td>#jan Idiot Chelsea Handler Diagnoses Trump Wit...</td>\n",
       "      <td>True</td>\n",
       "      <td>Spam</td>\n",
       "      <td>0.0</td>\n",
       "      <td>11</td>\n",
       "      <td>False</td>\n",
       "      <td>True</td>\n",
       "      <td>True</td>\n",
       "      <td>False</td>\n",
       "      <td>-0.046486</td>\n",
       "      <td>-0.092185</td>\n",
       "      <td>-0.426333</td>\n",
       "    </tr>\n",
       "    <tr>\n",
       "      <th>4</th>\n",
       "      <td>Pedophile Anthony Weiner is TERRIFIED of Getti...</td>\n",
       "      <td>True</td>\n",
       "      <td>Spam</td>\n",
       "      <td>0.0</td>\n",
       "      <td>12</td>\n",
       "      <td>False</td>\n",
       "      <td>False</td>\n",
       "      <td>True</td>\n",
       "      <td>False</td>\n",
       "      <td>0.001675</td>\n",
       "      <td>-0.091905</td>\n",
       "      <td>-0.351761</td>\n",
       "    </tr>\n",
       "  </tbody>\n",
       "</table>\n",
       "</div>"
      ],
      "text/plain": [
       "                                               Tweet  label     Type  \\\n",
       "0  It's the everything else that's complicated. #...  False  Quality   \n",
       "1  Eren sent a glare towards Mikasa then nodded a...  False  Quality   \n",
       "2  I posted a new photo to Facebook http://fb.me/...  False  Quality   \n",
       "3  #jan Idiot Chelsea Handler Diagnoses Trump Wit...   True     Spam   \n",
       "4  Pedophile Anthony Weiner is TERRIFIED of Getti...   True     Spam   \n",
       "\n",
       "   is_retweet  length  contains_at  contains_hashtag  contains_link  \\\n",
       "0         0.0       8        False              True          False   \n",
       "1         0.0      24         True             False          False   \n",
       "2         0.0       8        False             False           True   \n",
       "3         0.0      11        False              True           True   \n",
       "4         0.0      12        False             False           True   \n",
       "\n",
       "   contains_pic  standardize_following  standardize_followers  \\\n",
       "0          True              -0.151579              -0.089445   \n",
       "1         False              -0.151579              -0.092339   \n",
       "2         False              -0.151579              -0.092339   \n",
       "3         False              -0.046486              -0.092185   \n",
       "4         False               0.001675              -0.091905   \n",
       "\n",
       "   standardize_actions  \n",
       "0                  NaN  \n",
       "1                  NaN  \n",
       "2                  NaN  \n",
       "3            -0.426333  \n",
       "4            -0.351761  "
      ]
     },
     "execution_count": 5,
     "metadata": {},
     "output_type": "execute_result"
    }
   ],
   "source": [
    "viz_df.head()"
   ]
  },
  {
   "cell_type": "code",
   "execution_count": 6,
   "metadata": {},
   "outputs": [
    {
     "data": {
      "text/html": [
       "<div>\n",
       "<style scoped>\n",
       "    .dataframe tbody tr th:only-of-type {\n",
       "        vertical-align: middle;\n",
       "    }\n",
       "\n",
       "    .dataframe tbody tr th {\n",
       "        vertical-align: top;\n",
       "    }\n",
       "\n",
       "    .dataframe thead th {\n",
       "        text-align: right;\n",
       "    }\n",
       "</style>\n",
       "<table border=\"1\" class=\"dataframe\">\n",
       "  <thead>\n",
       "    <tr style=\"text-align: right;\">\n",
       "      <th></th>\n",
       "      <th>Process_tweet</th>\n",
       "      <th>label</th>\n",
       "    </tr>\n",
       "  </thead>\n",
       "  <tbody>\n",
       "    <tr>\n",
       "      <th>0</th>\n",
       "      <td>its the everything else thats complicated</td>\n",
       "      <td>0</td>\n",
       "    </tr>\n",
       "    <tr>\n",
       "      <th>1</th>\n",
       "      <td>eren sent a glare towards mikasa then nodded a...</td>\n",
       "      <td>0</td>\n",
       "    </tr>\n",
       "    <tr>\n",
       "      <th>2</th>\n",
       "      <td>i posted a new photo to facebook</td>\n",
       "      <td>0</td>\n",
       "    </tr>\n",
       "    <tr>\n",
       "      <th>3</th>\n",
       "      <td>idiot chelsea handler diagnoses trump with a d...</td>\n",
       "      <td>1</td>\n",
       "    </tr>\n",
       "    <tr>\n",
       "      <th>4</th>\n",
       "      <td>pedophile anthony weiner is terrified of getti...</td>\n",
       "      <td>1</td>\n",
       "    </tr>\n",
       "  </tbody>\n",
       "</table>\n",
       "</div>"
      ],
      "text/plain": [
       "                                       Process_tweet  label\n",
       "0          its the everything else thats complicated      0\n",
       "1  eren sent a glare towards mikasa then nodded a...      0\n",
       "2                   i posted a new photo to facebook      0\n",
       "3  idiot chelsea handler diagnoses trump with a d...      1\n",
       "4  pedophile anthony weiner is terrified of getti...      1"
      ]
     },
     "execution_count": 6,
     "metadata": {},
     "output_type": "execute_result"
    }
   ],
   "source": [
    "NB_df.head()"
   ]
  },
  {
   "cell_type": "code",
   "execution_count": 12,
   "metadata": {},
   "outputs": [],
   "source": [
    "with open(\"config/naive-bayes-params.json\") as fh:\n",
    "    NB_cfg = json.load(fh)\n",
    "    NB_model = naive_bayes_model(NB_df, NB_cfg[\"tweet_column_name\"], NB_cfg[\"label_column_name\"], NB_cfg[\"vectorizer_fp\"], NB_cfg[\"mdl_fp\"])"
   ]
  },
  {
   "cell_type": "code",
   "execution_count": 8,
   "metadata": {},
   "outputs": [
    {
     "data": {
      "text/plain": [
       "'Neutral'"
      ]
     },
     "execution_count": 8,
     "metadata": {},
     "output_type": "execute_result"
    }
   ],
   "source": [
    "sentiment_analyzer(NB_df[\"Process_tweet\"][2])"
   ]
  },
  {
   "cell_type": "code",
   "execution_count": null,
   "metadata": {},
   "outputs": [],
   "source": []
  }
 ],
 "metadata": {
  "kernelspec": {
   "display_name": "Python 3",
   "language": "python",
   "name": "python3"
  },
  "language_info": {
   "codemirror_mode": {
    "name": "ipython",
    "version": 3
   },
   "file_extension": ".py",
   "mimetype": "text/x-python",
   "name": "python",
   "nbconvert_exporter": "python",
   "pygments_lexer": "ipython3",
   "version": "3.8.5"
  }
 },
 "nbformat": 4,
 "nbformat_minor": 4
}
